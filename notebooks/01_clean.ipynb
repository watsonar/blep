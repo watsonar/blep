{
 "cells": [
  {
   "cell_type": "code",
   "execution_count": 1,
   "metadata": {},
   "outputs": [],
   "source": [
    "from datetime import date\n",
    "import pandas as pd\n",
    "import sys\n",
    "sys.path.append('../src')\n",
    "import data.clean as clean\n",
    "import numpy as np"
   ]
  },
  {
   "cell_type": "markdown",
   "metadata": {},
   "source": [
    "# Read external data into a pandas df"
   ]
  },
  {
   "cell_type": "code",
   "execution_count": 2,
   "metadata": {},
   "outputs": [],
   "source": [
    "#today = date.today()\n",
    "#d = today.strftime('%Y_%m_%d')\n",
    "d = '2020_11_25'\n",
    "\n",
    "df = pd.read_csv(f'../data/external/raw_chewy_data_{d}.csv')"
   ]
  },
  {
   "cell_type": "markdown",
   "metadata": {},
   "source": [
    "# Clean data\n",
    "\n",
    "## Unpack attribute and guarenteed analysis (GA) dictionaries\n",
    "Attribute information and guarenteed analysis (GA) information are stored as dictionaries in their columns. This is because different products have different fields/numbers of fields in these tables. So first things first, expand those two columns."
   ]
  },
  {
   "cell_type": "code",
   "execution_count": 3,
   "metadata": {},
   "outputs": [],
   "source": [
    "# help(clean.dict_col_to_cols)\n",
    "\n",
    "df = clean.dict_col_to_cols(df=df, col='ga_dict', ga=True)\n",
    "df = clean.dict_col_to_cols(df=df, col='attr_dict', ga=False)"
   ]
  },
  {
   "cell_type": "markdown",
   "metadata": {},
   "source": [
    "## Fill guarenteed analysis columns missing critical statistics\n",
    "\n",
    "It is mandatory that cat food manufacturers report % protein min, % fat min, and % fiber max in their guarenteed analysis. So it's likely that when there isn't a value for one of these macros, but there is a value for a very similarly named macro, a typo has been made. So we need to fill empty macro values with the values most likely to be correct."
   ]
  },
  {
   "cell_type": "code",
   "execution_count": 4,
   "metadata": {},
   "outputs": [],
   "source": [
    "df['% protein min'] = df['% protein min'].fillna(df['% protein']).fillna(df['% protein max'])\n",
    "df['% fat min'] = df['% fat min'].fillna(df['% fat']).fillna(df['% fat max'])\n",
    "df['% fiber max'] = df['% fiber max'].fillna(df['% fiber']).fillna(df['% fiber min'])\n",
    "df['% moisture max'] = df['% moisture max'].fillna(df['% moisture']).fillna(df['% moisture min'])\n",
    "\n",
    "# df = df.dropna(thresh = df.shape[0] * 0.5, how = 'all', axis = 1)"
   ]
  },
  {
   "cell_type": "markdown",
   "metadata": {},
   "source": [
    "## Add up percentages of misc. guarenteed analysis componenets \n",
    "There are so many miscellaneous compounds that are included in only a handful of the products' guarenteed analysis. We want the percent values for these compounds, because they will help us calculate % carbohydrates later, but we don't need them individually. So we want to add up the columns that start with '%' and are not protein, fat, fiber, moisture, or carbohydrate (a few products have this value, but we will be calculating it for all products). If the sum of these columns is 100% or greater, we know something has gone terribly wrong (I found a typo...) so we will set that value to nan."
   ]
  },
  {
   "cell_type": "code",
   "execution_count": 5,
   "metadata": {},
   "outputs": [],
   "source": [
    "macros = ('protein', 'fat', 'fiber', 'moisture', 'carbohydrate')\n",
    "\n",
    "misc_components = [col for col in df if '%' in col and not any(macro in col for macro in macros)]\n",
    "\n",
    "df['% misc components'] = df[misc_components].sum(axis=1)\n",
    "\n",
    "df.loc[df['% misc components'] >= 100, '% misc components'] = np.nan"
   ]
  },
  {
   "cell_type": "markdown",
   "metadata": {},
   "source": [
    "## Extract kilocalories/mass or kilocalories/volume\n",
    "The calories column contains information about the number of kilocalories per unit mass or volume of food. However, the units are not consistent, and often multiple values are reported. So we can pull out the kcal/unit mass for dry food, and the kcal/unit volume for wet food (this is because total product size is given in mass for dry food and volume for wet food, and we'd like to eventually calculate U.S. dollar per kcal)."
   ]
  },
  {
   "cell_type": "code",
   "execution_count": 6,
   "metadata": {},
   "outputs": [],
   "source": [
    "# help(clean.get_unit_val_col)\n",
    "\n",
    "# kcal/unit of mass:\n",
    "df = clean.get_unit_val_col(df, column_name = 'calories',\n",
    "                  col_split_regex = '(?<!/) (?=\\d)|,|;|:',\n",
    "                  unit_name = 'kcal_per_kg',\n",
    "                  unit_regex = 'kcal.*kg')\n",
    "\n",
    "df = clean.get_unit_val_col(df, column_name = 'calories',\n",
    "                  col_split_regex = '(?<!/) (?=\\d)|,|;|:',\n",
    "                  unit_name = 'kcal_per_lb',\n",
    "                  unit_regex = 'kcal.*lb')\n",
    "\n",
    "# kcal/unit of volume:\n",
    "df = clean.get_unit_val_col(df, column_name = 'calories',\n",
    "                  col_split_regex = '(?<!/) (?=\\d)|,|;|:',\n",
    "                  unit_name = 'kcal_per_oz',\n",
    "                  unit_regex = 'kcal.*oz|kcal.*ounce')\n",
    "\n",
    "df = clean.get_unit_val_col(df, column_name = 'calories',\n",
    "                  col_split_regex = '(?<!/) (?=\\d)|,|;|:',\n",
    "                  unit_name = 'kcal_per_cup',\n",
    "                  unit_regex = 'kcal.*cup')\n",
    "\n",
    "# kcal/item (kcal in a single can, pouch, etc.)\n",
    "df = clean.get_unit_val_col(df, column_name = 'calories',\n",
    "                  col_split_regex = '(?<!/) (?=\\d)|,|;|:',\n",
    "                  unit_name = 'kcal_per_item',\n",
    "                  unit_regex = 'kcal.*can|kcal.*pouch|kcl.*pouch|kcal.*unit|kcal.*bowl|kcal.*tray|kcal.*container|kcal.*serving|kcal.*tub|kcal.*pack',\n",
    "                  clear_inconsistent_rows = False,\n",
    "                  get_denom_col = True,\n",
    "                  denom_name = 'item_volume_for_kcal',\n",
    "                  denom_regex = '((?<=\\/).*?\\d+\\.?\\d+)')"
   ]
  },
  {
   "cell_type": "markdown",
   "metadata": {},
   "source": [
    "## Extract item mass, volume, and/or count\n",
    "For dry food we need the total mass of the bag, for wet food we need the total volume of the can/item unit and the number of cans/item units."
   ]
  },
  {
   "cell_type": "code",
   "execution_count": 7,
   "metadata": {},
   "outputs": [],
   "source": [
    "# number of lbs per item\n",
    "df = clean.get_unit_val_col(df, column_name = 'name',\n",
    "                  col_split_regex = ',',\n",
    "                  unit_name = 'total_mass_lb',\n",
    "                  unit_regex = 'lb|pound|Pound')\n",
    "\n",
    "# if no number lbs found, get that value from the weight attribute \n",
    "# DO NOT DO THIS WEIGHTS ARE NOT ALL IN LBS\n",
    "# df['total_mass_lb'] = df['total_mass_lb'].fillna(df['weight'])\n",
    "\n",
    "# number of ounces per item\n",
    "df = clean.get_unit_val_col(df, column_name = 'name',\n",
    "                  col_split_regex = ',',\n",
    "                  unit_name = 'item_oz',\n",
    "                  unit_regex = 'oz|ounce')\n",
    "\n",
    "# number of items\n",
    "df = clean.get_unit_val_col(df, column_name = 'name',\n",
    "                  col_split_regex = ',',\n",
    "                  unit_name = 'item_count',\n",
    "                  unit_regex = 'case of')\n",
    "\n",
    "# if no number of items specified, set item_count to 1\n",
    "df['item_count'] = df['item_count'].fillna(1)"
   ]
  },
  {
   "cell_type": "markdown",
   "metadata": {},
   "source": [
    "# Filling values and adding warnings\n",
    "## Nutritional info\n",
    "For nutritional information, we need to know AT LEAST the % protein min, % fat min, and % moisture. % fiber max should also be provided. To calculate the cost per kilocalorie, we need the prouct price, and the kilocalories per product."
   ]
  },
  {
   "cell_type": "code",
   "execution_count": 8,
   "metadata": {},
   "outputs": [
    {
     "name": "stdout",
     "output_type": "stream",
     "text": [
      "There are 16 products out of 2095 which are missing protein, fat, or fiber info.\n",
      "There are 54 products out of 2095 which have all protein, fat, and fiber info, but not moisture.\n"
     ]
    }
   ],
   "source": [
    "missing_ga = df[df['% protein min'].isna() | df['% fat min'].isna() | df['% fiber max'].isna()]\n",
    "\n",
    "print(f'There are %d products out of %d which are missing protein, fat, or fiber info.' \n",
    "      % (len(missing_ga), len(df)))\n",
    "\n",
    "missing_moisture = df[df['% protein min'].notnull() & df['% fat min'].notnull() & df['% fiber max'].notnull() & df['% moisture max'].isna()]\n",
    "\n",
    "print(f'There are %d products out of %d which have all protein, fat, and fiber info, but not moisture.' \n",
    "      % (len(missing_moisture), len(df)))"
   ]
  },
  {
   "cell_type": "markdown",
   "metadata": {},
   "source": [
    "The average wet cat food and the average dry cat food are supposed to have 75-78% and 10-12% moisture max, respectively (https://www.petfoodinstitute.org/the-whole-bowl/z-pet-food-4-things-know-dry-pet-food/).\n",
    "We could assign those moisture values to the foods that are missing moisture information but have all the other nutrient values.\n",
    "\n",
    "Out of curiosity, do those values reflect the average moisture for wet and dry cat food in this data?"
   ]
  },
  {
   "cell_type": "code",
   "execution_count": 9,
   "metadata": {},
   "outputs": [
    {
     "name": "stdout",
     "output_type": "stream",
     "text": [
      "In this data, wet food has a mean percent moisture max of 80 percent, and dry food has a mean percent moisture max of 9 percent.\n"
     ]
    }
   ],
   "source": [
    "wet_mean = df[df['food form'].str.contains('wet food', na=False)]['% moisture max'].mean()\n",
    "\n",
    "dry_mean = df[df['food form'].str.contains('dry food', na=False)]['% moisture max'].mean()\n",
    "\n",
    "print(f'In this data, wet food has a mean percent moisture max of %d percent, \\\n",
    "and dry food has a mean percent moisture max of %d percent.' \n",
    "      % (wet_mean, dry_mean))"
   ]
  },
  {
   "cell_type": "markdown",
   "metadata": {},
   "source": [
    "### Assuming moisture content\n",
    "For all products that have values for protein, fat, and fiber, but are missing a value for moisture, we can fill in the moisture value with an estimate based on if the food is wet or dry. But if we do this, we should add a warning column stating that this value was estimated."
   ]
  },
  {
   "cell_type": "code",
   "execution_count": 10,
   "metadata": {},
   "outputs": [],
   "source": [
    "df['moisture_warning'] = np.nan\n",
    "\n",
    "df.loc[df['food form'].str.contains('wet food') \n",
    "       & df['% protein min'].notnull() \n",
    "       & df['% fat min'].notnull() \n",
    "       & df['% fiber max'].notnull() \n",
    "       & df['% moisture max'].isna(), \n",
    "       ['% moisture max', 'moisture_warning']] = [76.5, '% moisture max estimated']\n",
    "\n",
    "df.loc[df['food form'].str.contains('dry food') \n",
    "       & df['% protein min'].notnull() \n",
    "       & df['% fat min'].notnull() \n",
    "       & df['% fiber max'].notnull() \n",
    "       & df['% moisture max'].isna(), \n",
    "       ['% moisture max', 'moisture_warning']] = [11, '% moisture max estimated']"
   ]
  },
  {
   "cell_type": "markdown",
   "metadata": {},
   "source": [
    "## Kilocalories/product\n",
    "Calculating kilocalories per product is a bit trickier. We need to make sure we're not mistaking mass with volume. When wet food is measured in ounces, they are fluid ounces. But if we're given the calorie content of a wet food only in kcal/kg, we can't convert fluid ounces to kilograms, because we don't know the density of the wet food (though most wet food is ~78% water).\n",
    "\n",
    "So for each product we need price, and either:\n",
    "\n",
    "1. kcal/unit of volume (cups or ounces)\n",
    "2. item volume (cups or ounces)\n",
    "\n",
    "OR\n",
    "\n",
    "1. kcal/unit of mass (kg or lb)\n",
    "2. item mass (kg or lb)\n",
    "\n",
    "OR\n",
    "\n",
    "1. kcal/item\n",
    "2. item count"
   ]
  },
  {
   "cell_type": "code",
   "execution_count": 11,
   "metadata": {},
   "outputs": [
    {
     "name": "stdout",
     "output_type": "stream",
     "text": [
      "There are 212 products out of 2095 which are missing required kcal/product values.\n"
     ]
    }
   ],
   "source": [
    "trouble = df[((df['kcal_per_cup'].isna() & df['kcal_per_oz'].isna()) | df['item_oz'].isna()) & \n",
    "             ((df['kcal_per_kg'].isna() & df['kcal_per_lb'].isna()) | df['total_mass_lb'].isna()) &\n",
    "             df['kcal_per_item'].isna()]\n",
    "\n",
    "print(f'There are %d products out of %d which are missing required kcal/product values.' \n",
    "      % (len(trouble), len(df)))"
   ]
  },
  {
   "cell_type": "markdown",
   "metadata": {},
   "source": [
    "Let's see how many of these we could work with if we were willing to convert between mass and volume...\n",
    "We'll do calculations for kilocalories/product later, but for now we'll put a warning on these products."
   ]
  },
  {
   "cell_type": "code",
   "execution_count": 12,
   "metadata": {},
   "outputs": [
    {
     "name": "stdout",
     "output_type": "stream",
     "text": [
      "We could salvage 146 of the aforementioned 212 products if we were willing to convert between mass and volume.\n"
     ]
    }
   ],
   "source": [
    "annoying = trouble[(trouble['kcal_per_cup'].notnull() | trouble['kcal_per_oz'].notnull() | \n",
    "                    trouble['kcal_per_kg'].notnull() | trouble['kcal_per_lb'].notnull()) & \n",
    "                   (trouble['item_oz'].notnull() | trouble['total_mass_lb'].notnull())].copy()\n",
    "\n",
    "print(f'We could salvage %d of the aforementioned %d products if we were willing to convert between mass and volume.' \n",
    "      % (len(annoying), len(trouble)))\n",
    "\n",
    "df['conversion_warning'] = np.nan\n",
    "\n",
    "df.loc[annoying.index, 'conversion_warning'] = 'kcal/product required a conversion between mass and volume'"
   ]
  },
  {
   "cell_type": "markdown",
   "metadata": {},
   "source": [
    "Good to know for later..."
   ]
  },
  {
   "cell_type": "markdown",
   "metadata": {},
   "source": [
    "# Final clean up and save new tsv\n",
    "Get rid of columns we don't need anymore. Save as tsv because I think they look neater than csvs."
   ]
  },
  {
   "cell_type": "code",
   "execution_count": 13,
   "metadata": {},
   "outputs": [],
   "source": [
    "desired_cols = ['name', 'url', 'our_price', 'list_price', 'ingredients', '% protein min', '% fat min', '% fiber max', \n",
    "                '% misc components', '% moisture max', 'item number','weight', 'packaging type', 'food texture', \n",
    "                'brand', 'lifestage', 'food form', 'special diet', 'breed size', 'dimensions', 'small pet type', \n",
    "                'restricted availability', 'kcal_per_kg', 'kcal_per_lb', 'kcal_per_oz', 'kcal_per_cup', 'kcal_per_item',\n",
    "                'item_volume_for_kcal', 'total_mass_lb', 'item_oz', 'item_count', 'moisture_warning', \n",
    "                'conversion_warning']\n",
    "\n",
    "final_cols = [col for col in df.columns if col in desired_cols]\n",
    "\n",
    "df_lite = df[final_cols]\n",
    "\n",
    "df_lite.columns = df_lite.columns.str.replace(' ', '_')\n",
    "\n",
    "df_lite.fillna(np.nan)\n",
    "\n",
    "df_lite.to_csv(f'../data/interim/cleaned_chewy_data_{d}.txt', sep='\\t', index=False)"
   ]
  }
 ],
 "metadata": {
  "kernelspec": {
   "display_name": "Python 3",
   "language": "python",
   "name": "python3"
  },
  "language_info": {
   "codemirror_mode": {
    "name": "ipython",
    "version": 3
   },
   "file_extension": ".py",
   "mimetype": "text/x-python",
   "name": "python",
   "nbconvert_exporter": "python",
   "pygments_lexer": "ipython3",
   "version": "3.7.3"
  }
 },
 "nbformat": 4,
 "nbformat_minor": 2
}
