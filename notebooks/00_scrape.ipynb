{
 "cells": [
  {
   "cell_type": "markdown",
   "metadata": {},
   "source": [
    "# Scrape raw data in chewy\n",
    "Will be saved with the following format: `../data/external/raw_chewy_data_%d_%m_%Y.csv`\n",
    "\n",
    "If you run this more than once in a day, you MUST delete the previous output file with the same date before running again, or else results will be appended to the original output file and you don't want that because it makes a mess."
   ]
  },
  {
   "cell_type": "code",
   "execution_count": 5,
   "metadata": {},
   "outputs": [],
   "source": [
    "# Commented out because running this by accident is very inconvenient:\n",
    "\n",
    "# import os\n",
    "# os.system(\"scrapy crawl chewy_spider\")"
   ]
  }
 ],
 "metadata": {
  "kernelspec": {
   "display_name": "Python 3",
   "language": "python",
   "name": "python3"
  },
  "language_info": {
   "codemirror_mode": {
    "name": "ipython",
    "version": 3
   },
   "file_extension": ".py",
   "mimetype": "text/x-python",
   "name": "python",
   "nbconvert_exporter": "python",
   "pygments_lexer": "ipython3",
   "version": "3.7.3"
  }
 },
 "nbformat": 4,
 "nbformat_minor": 2
}
