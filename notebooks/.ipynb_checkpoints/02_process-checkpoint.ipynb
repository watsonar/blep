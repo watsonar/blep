{
 "cells": [
  {
   "cell_type": "code",
   "execution_count": 1,
   "metadata": {},
   "outputs": [],
   "source": [
    "from datetime import date\n",
    "import pandas as pd\n",
    "import sys\n",
    "sys.path.append('../src')\n",
    "import data.process as process\n",
    "import numpy as np"
   ]
  },
  {
   "cell_type": "markdown",
   "metadata": {},
   "source": [
    "# Read cleaned data into a pandas df"
   ]
  },
  {
   "cell_type": "code",
   "execution_count": 2,
   "metadata": {},
   "outputs": [],
   "source": [
    "# today = date.today()\n",
    "# d = today.strftime('%Y_%m_%d')\n",
    "d = '2020_11_25'\n",
    "\n",
    "df = pd.read_csv(f'../data/interim/cleaned_chewy_data_{d}.txt', sep='\\t')"
   ]
  },
  {
   "cell_type": "markdown",
   "metadata": {},
   "source": [
    "# Process data\n",
    "## Calculate percent calories from protein, fat, and carbohydrates in each food\n",
    "From cleaning our data we now have a %_protein_min, %_fat_min, %_fiber_max, %_moisture_max and %_misc_components column for nearly all entries. From these percentages, we can caluclate the %_carbohydrate, then convert everything to a dry matter basis, and ultimately calculate the percent of calories coming from protein, fat, and carbohydrates in this food."
   ]
  },
  {
   "cell_type": "code",
   "execution_count": 3,
   "metadata": {},
   "outputs": [],
   "source": [
    "df = process.calc_carbohydrate(df)\n",
    "\n",
    "df = process.calc_dry_matter(df)\n",
    "\n",
    "df = process.calc_percent_kcals(df)"
   ]
  },
  {
   "cell_type": "markdown",
   "metadata": {},
   "source": [
    "## Calculate kcals per product and price per kcal"
   ]
  },
  {
   "cell_type": "code",
   "execution_count": 4,
   "metadata": {},
   "outputs": [],
   "source": [
    "# Converting units\n",
    "df['kcal_per_lb'] = df['kcal_per_lb'].fillna(df['kcal_per_kg'] / 2.205)\n",
    "df['kcal_per_oz'] = df['kcal_per_oz'].fillna(df['kcal_per_cup'] / 8)\n",
    "\n",
    "# kcals_per_product\n",
    "df = process.calc_kcal_per_product(df)\n",
    "\n",
    "# price_per_kcal\n",
    "df['price_per_kcal'] = df['our_price'] / df['kcal_per_product']"
   ]
  },
  {
   "cell_type": "markdown",
   "metadata": {},
   "source": [
    "# Final clean up and save new tsv(s)\n",
    "Save final tsv with all info, and tsv with simplified info for easier filtering of products."
   ]
  },
  {
   "cell_type": "code",
   "execution_count": 5,
   "metadata": {},
   "outputs": [],
   "source": [
    "df.to_csv(f'../data/processed/processed_FULL_data_{d}.txt', sep='\\t', index=False)\n",
    "\n",
    "desired_cols = ['brand', 'name', 'food_form', 'packaging_type', 'food_texture', 'lifestage', 'special_diet', \n",
    "                'restricted_availability', 'url', 'our_price', 'ingredients', '% moisture max', \n",
    "                '%_calories_min_protein', '%_calories_min_fat', '%_calories_carbohydrate', '% moisture max', \n",
    "                'moisture_warning', 'price_per_kcal']\n",
    "\n",
    "final_cols = [col for col in df.columns if col in desired_cols]\n",
    "\n",
    "df_lite = df[final_cols]\n",
    "\n",
    "df_lite.to_csv(f'../data/processed/processed_LITE_data_{d}.txt', sep='\\t', index=False)"
   ]
  }
 ],
 "metadata": {
  "kernelspec": {
   "display_name": "Python 3",
   "language": "python",
   "name": "python3"
  },
  "language_info": {
   "codemirror_mode": {
    "name": "ipython",
    "version": 3
   },
   "file_extension": ".py",
   "mimetype": "text/x-python",
   "name": "python",
   "nbconvert_exporter": "python",
   "pygments_lexer": "ipython3",
   "version": "3.7.3"
  }
 },
 "nbformat": 4,
 "nbformat_minor": 2
}
