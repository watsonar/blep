{
 "cells": [
  {
   "cell_type": "code",
   "execution_count": 1,
   "metadata": {},
   "outputs": [],
   "source": [
    "import os\n",
    "from datetime import date\n",
    "import pandas as pd\n",
    "import sys\n",
    "sys.path.append('../src')\n",
    "import data.clean as clean\n",
    "import data.process as process"
   ]
  },
  {
   "cell_type": "markdown",
   "metadata": {},
   "source": [
    "# Scrape raw data from Chewy"
   ]
  },
  {
   "cell_type": "code",
   "execution_count": 2,
   "metadata": {},
   "outputs": [],
   "source": [
    "#os.system(\"scrapy crawl chewy_spider\")"
   ]
  },
  {
   "cell_type": "markdown",
   "metadata": {},
   "source": [
    "# Read today's external data into a pandas df"
   ]
  },
  {
   "cell_type": "code",
   "execution_count": 3,
   "metadata": {},
   "outputs": [],
   "source": [
    "today = date.today()\n",
    "d = today.strftime('%d_%m_%Y')\n",
    "\n",
    "df = pd.read_csv(f'../data/external/raw_chewy_data_{d}.csv')"
   ]
  },
  {
   "cell_type": "markdown",
   "metadata": {},
   "source": [
    "# Clean data\n",
    "\n",
    "## Unpack attribute and guarenteed analysis (GA) dictionaries\n",
    "Attribute information and guarenteed analysis (GA) information are stored as dictionaries in their columns. This is because different products have different fields/numbers of fields in these tables. So first things first, I expand those two columns."
   ]
  },
  {
   "cell_type": "code",
   "execution_count": 4,
   "metadata": {},
   "outputs": [],
   "source": [
    "# help(clean.dict_col_to_cols)\n",
    "\n",
    "df = clean.dict_col_to_cols(df=df, col='ga_dict', ga=True)\n",
    "df = clean.dict_col_to_cols(df=df, col='attr_dict', ga=False)"
   ]
  },
  {
   "cell_type": "markdown",
   "metadata": {},
   "source": [
    "## Fill guarenteed analysis columns missing critical statistics\n",
    "\n",
    "It is mandatory that cat food manufacturers report % protein min, % fat min, and % fiber max in their guarenteed analysis. So it's likley that when we don't have a value for one of these macros, but we do have a value for a very similarly named macro, a typo has been made. So here we fill our empty macro values with the values most likely to be correct."
   ]
  },
  {
   "cell_type": "code",
   "execution_count": 5,
   "metadata": {},
   "outputs": [],
   "source": [
    "df['% protein min'] = df['% protein min'].fillna(df['% protein']).fillna(df['% protein max'])\n",
    "df['% fat min'] = df['% fat min'].fillna(df['% fat']).fillna(df['% fat max'])\n",
    "df['% fiber max'] = df['% fiber max'].fillna(df['% fiber']).fillna(df['% fiber min'])\n",
    "df['% moisture max'] = df['% moisture max'].fillna(df['% moisture']).fillna(df['% moisture min'])\n",
    "\n",
    "# df = df.dropna(thresh = df.shape[0] * 0.5, how = 'all', axis = 1)"
   ]
  },
  {
   "cell_type": "markdown",
   "metadata": {},
   "source": [
    "## Extract kilocalories/mass or kilocalories/volume\n",
    "The calories column contains information about the number of kilocalories per unit mass or volume of food. However, the units are not consistent, and often multiple values are reported. So we need to pull out the kcal/unit mass for dry food, and the kcal/unit volume for wet food (this is because total product size is given in mass for dry food and volume for wet food, and we'd like to eventually calculate U.S. dollar per kcal)."
   ]
  },
  {
   "cell_type": "code",
   "execution_count": 6,
   "metadata": {},
   "outputs": [],
   "source": [
    "# help(clean.get_unit_val_col)\n",
    "\n",
    "# kcal/unit of mass:\n",
    "df = clean.get_unit_val_col(df, column_name = 'calories',\n",
    "                  col_split_regex = '(?<!/) (?=\\d)|,|;|:',\n",
    "                  unit_name = 'kcal_per_kg',\n",
    "                  unit_regex = 'kcal.*kg')\n",
    "\n",
    "df = clean.get_unit_val_col(df, column_name = 'calories',\n",
    "                  col_split_regex = '(?<!/) (?=\\d)|,|;|:',\n",
    "                  unit_name = 'kcal_per_lb',\n",
    "                  unit_regex = 'kcal.*lb')\n",
    "\n",
    "# kcal/unit of volume:\n",
    "df = clean.get_unit_val_col(df, column_name = 'calories',\n",
    "                  col_split_regex = '(?<!/) (?=\\d)|,|;|:',\n",
    "                  unit_name = 'kcal_per_oz',\n",
    "                  unit_regex = 'kcal.*oz|kcal.*ounce')\n",
    "\n",
    "df = clean.get_unit_val_col(df, column_name = 'calories',\n",
    "                  col_split_regex = '(?<!/) (?=\\d)|,|;|:',\n",
    "                  unit_name = 'kcal_per_cup',\n",
    "                  unit_regex = 'kcal.*cup')\n",
    "\n",
    "# kcal/item (kcal in a single can, pouch, etc.)\n",
    "df = clean.get_unit_val_col(df, column_name = 'calories',\n",
    "                  col_split_regex = '(?<!/) (?=\\d)|,|;|:',\n",
    "                  unit_name = 'kcal_per_item',\n",
    "                  unit_regex = 'kcal.*can|kcal.*pouch|kcl.*pouch|kcal.*unit|kcal.*bowl|kcal.*tray|kcal.*container|kcal.*serving|kcal.*tub|kcal.*pack',\n",
    "                  clear_inconsistent_rows = False,\n",
    "                  get_denom_col = True,\n",
    "                  denom_name = 'item_volume_for_kcal',\n",
    "                  denom_regex = '((?<=\\/).*?\\d+\\.?\\d+)')"
   ]
  },
  {
   "cell_type": "markdown",
   "metadata": {},
   "source": [
    "## Extract item mass, volume, and/or count\n",
    "For dry food we need the total mass of the bag, for wet food we need the total volume of the can/item unit and the number of cans/item units."
   ]
  },
  {
   "cell_type": "code",
   "execution_count": 7,
   "metadata": {},
   "outputs": [],
   "source": [
    "# number of lbs per item\n",
    "df = clean.get_unit_val_col(df, column_name = 'name',\n",
    "                  col_split_regex = ',',\n",
    "                  unit_name = 'total_mass_lb',\n",
    "                  unit_regex = 'lb|pound|Pound')\n",
    "\n",
    "# if no number lbs found, get that value from the weight attribute \n",
    "# DO NOT DO THIS WEIGHTS ARE NOT ALL IN LBS\n",
    "# df['total_mass_lb'] = df['total_mass_lb'].fillna(df['weight'])\n",
    "\n",
    "# number of ounces per item\n",
    "df = clean.get_unit_val_col(df, column_name = 'name',\n",
    "                  col_split_regex = ',',\n",
    "                  unit_name = 'item_oz',\n",
    "                  unit_regex = 'oz|ounce')\n",
    "\n",
    "# number of items\n",
    "df = clean.get_unit_val_col(df, column_name = 'name',\n",
    "                  col_split_regex = ',',\n",
    "                  unit_name = 'item_count',\n",
    "                  unit_regex = 'case of')\n",
    "\n",
    "# if no number of items specified, set item_count to 1\n",
    "df['item_count'] = df['item_count'].fillna(1)"
   ]
  },
  {
   "cell_type": "markdown",
   "metadata": {},
   "source": [
    "## BELOW IS OUTDATED\n",
    "## Do we have the necessary kcal and mass/volume values for all food?\n",
    "### Dry food\n",
    "For dry food, we need total mass, and kilocalories per unit of mass.\n",
    "How many dry food products are missing either both `kcal_per_kg` and `kcal_per_lb`, or `total_mass_lb`?"
   ]
  },
  {
   "cell_type": "code",
   "execution_count": 8,
   "metadata": {},
   "outputs": [
    {
     "name": "stdout",
     "output_type": "stream",
     "text": [
      "\n",
      " 79 out of 564 dry food products are missing at least one required value. \n",
      " That is ~14 percent. \n",
      " Of those 79, 1 are missing total mass. \n",
      " Of those 79, 78 are missing kcal/unit of mass. \n",
      " Of those 78 missing kcal/mass info, 0 have kcal/volume info.\n"
     ]
    }
   ],
   "source": [
    "d_food = df[df['food form'] == 'dry food']\n",
    "\n",
    "d_miss_val = d_food[((d_food['kcal_per_kg'].isna()) \n",
    "                     & (d_food['kcal_per_lb'].isna())) \n",
    "                    | d_food['total_mass_lb'].isna()]\n",
    "\n",
    "miss_lbs = d_miss_val[d_miss_val['total_mass_lb'].isna()]\n",
    "\n",
    "miss_kcals = d_miss_val[(d_miss_val['kcal_per_kg'].isna()) \n",
    "                        & (d_miss_val['kcal_per_lb'].isna())]\n",
    "\n",
    "have_vol = d_miss_val[d_miss_val['item_oz'].notnull() \n",
    "                      & ((d_miss_val['kcal_per_oz'].notnull()) \n",
    "                         | (d_miss_val['kcal_per_cup'].notnull()))]\n",
    "\n",
    "print(f'\\n %d out of %d dry food products are missing at least one required value.' % (len(d_miss_val), len(d_food)),\n",
    "      f'\\n That is ~%d percent.' % (round(len(d_miss_val) / len(d_food) * 100)),\n",
    "      f'\\n Of those %d, %d are missing total mass.' % (len(d_miss_val), len(miss_lbs)),\n",
    "      f'\\n Of those %d, %d are missing kcal/unit of mass.' % (len(d_miss_val), len(miss_kcals)),\n",
    "      f'\\n Of those %d missing kcal/mass info, %d have kcal/volume info.' % (len(miss_kcals), len(have_vol))\n",
    "     )"
   ]
  },
  {
   "cell_type": "markdown",
   "metadata": {},
   "source": [
    "### Wet food\n",
    "For wet food, we need item volume, item count, and either kcal per item or kcal per unit of volume.\n",
    "How many wet food products are missing either `item_oz` or both of `kcal_per_oz` and `kcal_per_cup`, AND are missing`kcal_per_item`."
   ]
  },
  {
   "cell_type": "code",
   "execution_count": 9,
   "metadata": {},
   "outputs": [
    {
     "name": "stdout",
     "output_type": "stream",
     "text": [
      "\n",
      " 116 out of 1474 wet food products are missing at least one required value. \n",
      " That is ~8 percent. \n",
      " Of those 116 missing kcal/volume info, 0 have kcal/mass info.\n"
     ]
    }
   ],
   "source": [
    "w_food = df[df['food form'] == 'wet food']\n",
    "\n",
    "w_miss_val = w_food[((w_food['item_oz'].isna()) \n",
    "                    | (w_food['kcal_per_oz'].isna() \n",
    "                       & w_food['kcal_per_cup'].isna())) \n",
    "                    & w_food['kcal_per_item'].isna()]\n",
    "\n",
    "w_miss_val_and_mass = w_miss_val[((w_miss_val['kcal_per_kg'].isna()) \n",
    "                                  & (w_miss_val['kcal_per_lb'].isna())) \n",
    "                                 | w_miss_val['total_mass_lb'].isna()]\n",
    "\n",
    "print(f'\\n %d out of %d wet food products are missing at least one required value.' % (len(w_miss_val), len(w_food)),\n",
    "      f'\\n That is ~%d percent.' % (round(len(w_miss_val) / len(w_food) * 100)),\n",
    "      f'\\n Of those %d missing kcal/volume info, %d have kcal/mass info.' \\\n",
    "      % (len(w_miss_val), len(w_miss_val) - len(w_miss_val_and_mass))\n",
    "     )\n"
   ]
  }
 ],
 "metadata": {
  "kernelspec": {
   "display_name": "Python 3",
   "language": "python",
   "name": "python3"
  },
  "language_info": {
   "codemirror_mode": {
    "name": "ipython",
    "version": 3
   },
   "file_extension": ".py",
   "mimetype": "text/x-python",
   "name": "python",
   "nbconvert_exporter": "python",
   "pygments_lexer": "ipython3",
   "version": "3.7.3"
  }
 },
 "nbformat": 4,
 "nbformat_minor": 2
}
